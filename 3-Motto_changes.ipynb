{
 "cells": [
  {
   "cell_type": "code",
   "execution_count": 1,
   "id": "e070ccc6",
   "metadata": {},
   "outputs": [],
   "source": [
    "# companies & employees stats \n",
    "#\n",
    "# 5 July 2024\n",
    "# marieke.van.erp@dh.huc.knaw.nl\n",
    "\n",
    "import pandas as pd\n",
    "import matplotlib.pyplot as plt\n",
    "import numpy as np\n",
    "import seaborn as sns\n",
    "import matplotlib.patches as mpatches"
   ]
  },
  {
   "cell_type": "code",
   "execution_count": 2,
   "id": "b26e81e0",
   "metadata": {},
   "outputs": [
    {
     "data": {
      "text/html": [
       "<div>\n",
       "<style scoped>\n",
       "    .dataframe tbody tr th:only-of-type {\n",
       "        vertical-align: middle;\n",
       "    }\n",
       "\n",
       "    .dataframe tbody tr th {\n",
       "        vertical-align: top;\n",
       "    }\n",
       "\n",
       "    .dataframe thead th {\n",
       "        text-align: right;\n",
       "    }\n",
       "</style>\n",
       "<table border=\"1\" class=\"dataframe\">\n",
       "  <thead>\n",
       "    <tr style=\"text-align: right;\">\n",
       "      <th></th>\n",
       "      <th>Unnamed: 0</th>\n",
       "      <th>mottoId.value</th>\n",
       "      <th>starttime.value</th>\n",
       "      <th>company.value</th>\n",
       "      <th>companyLabel.xml:lang</th>\n",
       "      <th>companyLabel.value</th>\n",
       "      <th>mottoLabel.value</th>\n",
       "      <th>endtime.value</th>\n",
       "      <th>mottoLabel.xml:lang</th>\n",
       "      <th>occurrence_companies</th>\n",
       "    </tr>\n",
       "  </thead>\n",
       "  <tbody>\n",
       "    <tr>\n",
       "      <th>0</th>\n",
       "      <td>0</td>\n",
       "      <td>http://www.wikidata.org/entity/statement/Q1136...</td>\n",
       "      <td>2022-01-01T00:00:00Z</td>\n",
       "      <td>http://www.wikidata.org/entity/Q113679995</td>\n",
       "      <td>en</td>\n",
       "      <td>Liberate Science</td>\n",
       "      <td>Making research more efficient, collaborative,...</td>\n",
       "      <td>NaN</td>\n",
       "      <td>NaN</td>\n",
       "      <td>1</td>\n",
       "    </tr>\n",
       "    <tr>\n",
       "      <th>1</th>\n",
       "      <td>1</td>\n",
       "      <td>http://www.wikidata.org/entity/statement/Q95-8...</td>\n",
       "      <td>2015-10-01T00:00:00Z</td>\n",
       "      <td>http://www.wikidata.org/entity/Q95</td>\n",
       "      <td>en</td>\n",
       "      <td>Google</td>\n",
       "      <td>Do the right thing</td>\n",
       "      <td>NaN</td>\n",
       "      <td>NaN</td>\n",
       "      <td>3</td>\n",
       "    </tr>\n",
       "    <tr>\n",
       "      <th>2</th>\n",
       "      <td>2</td>\n",
       "      <td>http://www.wikidata.org/entity/statement/Q2148...</td>\n",
       "      <td>1929-01-01T00:00:00Z</td>\n",
       "      <td>http://www.wikidata.org/entity/Q21483362</td>\n",
       "      <td>en</td>\n",
       "      <td>Kaut-Bullinger</td>\n",
       "      <td>Alles fürs Büro</td>\n",
       "      <td>NaN</td>\n",
       "      <td>NaN</td>\n",
       "      <td>1</td>\n",
       "    </tr>\n",
       "    <tr>\n",
       "      <th>3</th>\n",
       "      <td>3</td>\n",
       "      <td>http://www.wikidata.org/entity/statement/Q1660...</td>\n",
       "      <td>2017-02-22T00:00:00Z</td>\n",
       "      <td>http://www.wikidata.org/entity/Q166032</td>\n",
       "      <td>en</td>\n",
       "      <td>The Washington Post</td>\n",
       "      <td>Democracy Dies in Darkness</td>\n",
       "      <td>NaN</td>\n",
       "      <td>NaN</td>\n",
       "      <td>1</td>\n",
       "    </tr>\n",
       "    <tr>\n",
       "      <th>4</th>\n",
       "      <td>4</td>\n",
       "      <td>http://www.wikidata.org/entity/statement/Q5419...</td>\n",
       "      <td>2010-01-01T00:00:00Z</td>\n",
       "      <td>http://www.wikidata.org/entity/Q541909</td>\n",
       "      <td>en</td>\n",
       "      <td>Ergo Group</td>\n",
       "      <td>Versichern heißt verstehen</td>\n",
       "      <td>NaN</td>\n",
       "      <td>NaN</td>\n",
       "      <td>1</td>\n",
       "    </tr>\n",
       "    <tr>\n",
       "      <th>...</th>\n",
       "      <td>...</td>\n",
       "      <td>...</td>\n",
       "      <td>...</td>\n",
       "      <td>...</td>\n",
       "      <td>...</td>\n",
       "      <td>...</td>\n",
       "      <td>...</td>\n",
       "      <td>...</td>\n",
       "      <td>...</td>\n",
       "      <td>...</td>\n",
       "    </tr>\n",
       "    <tr>\n",
       "      <th>962</th>\n",
       "      <td>962</td>\n",
       "      <td>http://www.wikidata.org/entity/statement/Q2553...</td>\n",
       "      <td>NaN</td>\n",
       "      <td>http://www.wikidata.org/entity/Q25537289</td>\n",
       "      <td>en</td>\n",
       "      <td>Dream Express (DEX)</td>\n",
       "      <td>Play Together, Grow Together</td>\n",
       "      <td>NaN</td>\n",
       "      <td>NaN</td>\n",
       "      <td>1</td>\n",
       "    </tr>\n",
       "    <tr>\n",
       "      <th>963</th>\n",
       "      <td>963</td>\n",
       "      <td>http://www.wikidata.org/entity/statement/Q4750...</td>\n",
       "      <td>NaN</td>\n",
       "      <td>http://www.wikidata.org/entity/Q47502068</td>\n",
       "      <td>en</td>\n",
       "      <td>Idea Bank</td>\n",
       "      <td>Різні люди, різні ідеї – один банк. Ідея Банк!</td>\n",
       "      <td>NaN</td>\n",
       "      <td>NaN</td>\n",
       "      <td>1</td>\n",
       "    </tr>\n",
       "    <tr>\n",
       "      <th>964</th>\n",
       "      <td>964</td>\n",
       "      <td>http://www.wikidata.org/entity/statement/Q6621...</td>\n",
       "      <td>NaN</td>\n",
       "      <td>http://www.wikidata.org/entity/Q66219817</td>\n",
       "      <td>en</td>\n",
       "      <td>Cesa 1882</td>\n",
       "      <td>L'aristocratie à la table</td>\n",
       "      <td>NaN</td>\n",
       "      <td>NaN</td>\n",
       "      <td>3</td>\n",
       "    </tr>\n",
       "    <tr>\n",
       "      <th>965</th>\n",
       "      <td>965</td>\n",
       "      <td>http://www.wikidata.org/entity/statement/Q6621...</td>\n",
       "      <td>NaN</td>\n",
       "      <td>http://www.wikidata.org/entity/Q66219817</td>\n",
       "      <td>en</td>\n",
       "      <td>Cesa 1882</td>\n",
       "      <td>L'aristocrazia a tavola</td>\n",
       "      <td>NaN</td>\n",
       "      <td>NaN</td>\n",
       "      <td>3</td>\n",
       "    </tr>\n",
       "    <tr>\n",
       "      <th>966</th>\n",
       "      <td>966</td>\n",
       "      <td>http://www.wikidata.org/entity/statement/Q6621...</td>\n",
       "      <td>NaN</td>\n",
       "      <td>http://www.wikidata.org/entity/Q66219817</td>\n",
       "      <td>en</td>\n",
       "      <td>Cesa 1882</td>\n",
       "      <td>The aristocracy at the table</td>\n",
       "      <td>NaN</td>\n",
       "      <td>NaN</td>\n",
       "      <td>3</td>\n",
       "    </tr>\n",
       "  </tbody>\n",
       "</table>\n",
       "<p>967 rows × 10 columns</p>\n",
       "</div>"
      ],
      "text/plain": [
       "     Unnamed: 0                                      mottoId.value  \\\n",
       "0             0  http://www.wikidata.org/entity/statement/Q1136...   \n",
       "1             1  http://www.wikidata.org/entity/statement/Q95-8...   \n",
       "2             2  http://www.wikidata.org/entity/statement/Q2148...   \n",
       "3             3  http://www.wikidata.org/entity/statement/Q1660...   \n",
       "4             4  http://www.wikidata.org/entity/statement/Q5419...   \n",
       "..          ...                                                ...   \n",
       "962         962  http://www.wikidata.org/entity/statement/Q2553...   \n",
       "963         963  http://www.wikidata.org/entity/statement/Q4750...   \n",
       "964         964  http://www.wikidata.org/entity/statement/Q6621...   \n",
       "965         965  http://www.wikidata.org/entity/statement/Q6621...   \n",
       "966         966  http://www.wikidata.org/entity/statement/Q6621...   \n",
       "\n",
       "          starttime.value                              company.value  \\\n",
       "0    2022-01-01T00:00:00Z  http://www.wikidata.org/entity/Q113679995   \n",
       "1    2015-10-01T00:00:00Z         http://www.wikidata.org/entity/Q95   \n",
       "2    1929-01-01T00:00:00Z   http://www.wikidata.org/entity/Q21483362   \n",
       "3    2017-02-22T00:00:00Z     http://www.wikidata.org/entity/Q166032   \n",
       "4    2010-01-01T00:00:00Z     http://www.wikidata.org/entity/Q541909   \n",
       "..                    ...                                        ...   \n",
       "962                   NaN   http://www.wikidata.org/entity/Q25537289   \n",
       "963                   NaN   http://www.wikidata.org/entity/Q47502068   \n",
       "964                   NaN   http://www.wikidata.org/entity/Q66219817   \n",
       "965                   NaN   http://www.wikidata.org/entity/Q66219817   \n",
       "966                   NaN   http://www.wikidata.org/entity/Q66219817   \n",
       "\n",
       "    companyLabel.xml:lang   companyLabel.value  \\\n",
       "0                      en     Liberate Science   \n",
       "1                      en               Google   \n",
       "2                      en       Kaut-Bullinger   \n",
       "3                      en  The Washington Post   \n",
       "4                      en           Ergo Group   \n",
       "..                    ...                  ...   \n",
       "962                    en  Dream Express (DEX)   \n",
       "963                    en            Idea Bank   \n",
       "964                    en            Cesa 1882   \n",
       "965                    en            Cesa 1882   \n",
       "966                    en            Cesa 1882   \n",
       "\n",
       "                                      mottoLabel.value endtime.value  \\\n",
       "0    Making research more efficient, collaborative,...           NaN   \n",
       "1                                   Do the right thing           NaN   \n",
       "2                                      Alles fürs Büro           NaN   \n",
       "3                           Democracy Dies in Darkness           NaN   \n",
       "4                           Versichern heißt verstehen           NaN   \n",
       "..                                                 ...           ...   \n",
       "962                       Play Together, Grow Together           NaN   \n",
       "963     Різні люди, різні ідеї – один банк. Ідея Банк!           NaN   \n",
       "964                          L'aristocratie à la table           NaN   \n",
       "965                            L'aristocrazia a tavola           NaN   \n",
       "966                       The aristocracy at the table           NaN   \n",
       "\n",
       "    mottoLabel.xml:lang  occurrence_companies  \n",
       "0                   NaN                     1  \n",
       "1                   NaN                     3  \n",
       "2                   NaN                     1  \n",
       "3                   NaN                     1  \n",
       "4                   NaN                     1  \n",
       "..                  ...                   ...  \n",
       "962                 NaN                     1  \n",
       "963                 NaN                     1  \n",
       "964                 NaN                     3  \n",
       "965                 NaN                     3  \n",
       "966                 NaN                     3  \n",
       "\n",
       "[967 rows x 10 columns]"
      ]
     },
     "execution_count": 2,
     "metadata": {},
     "output_type": "execute_result"
    }
   ],
   "source": [
    "company_data = pd.read_csv('company_mottos_dates.tsv', sep='\\t')\n",
    "company_data['occurrence_companies'] = company_data.groupby('company.value')['company.value'].transform('size')\n",
    "company_data"
   ]
  },
  {
   "cell_type": "code",
   "execution_count": 3,
   "id": "24a123e6",
   "metadata": {},
   "outputs": [
    {
     "data": {
      "text/plain": [
       "Unnamed: 0               967\n",
       "mottoId.value            743\n",
       "starttime.value           33\n",
       "company.value            606\n",
       "companyLabel.xml:lang      1\n",
       "companyLabel.value       606\n",
       "mottoLabel.value         728\n",
       "endtime.value              9\n",
       "mottoLabel.xml:lang        1\n",
       "occurrence_companies       9\n",
       "dtype: int64"
      ]
     },
     "execution_count": 3,
     "metadata": {},
     "output_type": "execute_result"
    }
   ],
   "source": [
    "# General stats of the dataset \n",
    "# Unique number of values \n",
    "company_data.nunique()"
   ]
  },
  {
   "cell_type": "code",
   "execution_count": 4,
   "id": "919cf0b9",
   "metadata": {},
   "outputs": [
    {
     "data": {
      "text/plain": [
       "2.1102383033947953"
      ]
     },
     "execution_count": 4,
     "metadata": {},
     "output_type": "execute_result"
    }
   ],
   "source": [
    "company_data['occurrence_companies'].std()"
   ]
  },
  {
   "cell_type": "code",
   "execution_count": 5,
   "id": "1040d91f",
   "metadata": {},
   "outputs": [
    {
     "data": {
      "text/plain": [
       "1"
      ]
     },
     "execution_count": 5,
     "metadata": {},
     "output_type": "execute_result"
    }
   ],
   "source": [
    "company_data['occurrence_companies'].min()"
   ]
  },
  {
   "cell_type": "code",
   "execution_count": 6,
   "id": "486b9d46",
   "metadata": {},
   "outputs": [
    {
     "data": {
      "text/plain": [
       "14"
      ]
     },
     "execution_count": 6,
     "metadata": {},
     "output_type": "execute_result"
    }
   ],
   "source": [
    "company_data['occurrence_companies'].max()"
   ]
  },
  {
   "cell_type": "code",
   "execution_count": 7,
   "id": "7d16d1dd",
   "metadata": {},
   "outputs": [
    {
     "data": {
      "text/plain": [
       "2.34229576008273"
      ]
     },
     "execution_count": 7,
     "metadata": {},
     "output_type": "execute_result"
    }
   ],
   "source": [
    "company_data['occurrence_companies'].mean()"
   ]
  },
  {
   "cell_type": "code",
   "execution_count": 8,
   "id": "e9f41fb1",
   "metadata": {},
   "outputs": [
    {
     "data": {
      "text/plain": [
       "2.0"
      ]
     },
     "execution_count": 8,
     "metadata": {},
     "output_type": "execute_result"
    }
   ],
   "source": [
    "company_data['occurrence_companies'].median()"
   ]
  }
 ],
 "metadata": {
  "kernelspec": {
   "display_name": "Python 3 (ipykernel)",
   "language": "python",
   "name": "python3"
  },
  "language_info": {
   "codemirror_mode": {
    "name": "ipython",
    "version": 3
   },
   "file_extension": ".py",
   "mimetype": "text/x-python",
   "name": "python",
   "nbconvert_exporter": "python",
   "pygments_lexer": "ipython3",
   "version": "3.9.13"
  }
 },
 "nbformat": 4,
 "nbformat_minor": 5
}
