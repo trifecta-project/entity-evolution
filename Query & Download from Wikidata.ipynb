{
 "cells": [
  {
   "cell_type": "code",
   "execution_count": 1,
   "id": "6b54f784",
   "metadata": {},
   "outputs": [],
   "source": [
    "# Query Wikidata & download results as tsv  \n",
    "# This script also generates the information for Table 1 in the paper\n",
    "#\n",
    "# 23 June  - 12 July 2024\n",
    "# marieke.van.erp@dh.huc.knaw.nl"
   ]
  },
  {
   "cell_type": "code",
   "execution_count": 2,
   "id": "eef6c03f",
   "metadata": {},
   "outputs": [],
   "source": [
    "from SPARQLWrapper import SPARQLWrapper, JSON\n",
    "import pandas as pd"
   ]
  },
  {
   "cell_type": "code",
   "execution_count": 3,
   "id": "29ad7b72",
   "metadata": {},
   "outputs": [],
   "source": [
    "sparql = SPARQLWrapper(\"https://query.wikidata.org/bigdata/namespace/wdq/sparql\")\n",
    "sparql.setReturnFormat(JSON)\n"
   ]
  },
  {
   "cell_type": "code",
   "execution_count": 13,
   "id": "9b6887d4",
   "metadata": {},
   "outputs": [],
   "source": [
    "def datastats(dataframe):\n",
    "    dataframe['occurrence_companies'] = dataframe.groupby('company.value')['company.value'].transform('size')\n",
    "    number_of_entities = dataframe['company.value'].nunique()\n",
    "    number_of_statements = len(dataframe.index),\n",
    "    minimum = dataframe['occurrence_companies'].min()\n",
    "    maximum = dataframe['occurrence_companies'].max()\n",
    "    mean = dataframe['occurrence_companies'].mean()\n",
    "    median = dataframe['occurrence_companies'].median()\n",
    "    stdev = dataframe['occurrence_companies'].std()\n",
    "    stats_result = str(number_of_entities) + \" & \" + str(number_of_statements) + \" & \" + str(minimum) + \" & \" + str(maximum) + \" & \" + str(mean) +\" & \" + str(median) + \" & \" + str(stdev) + \"\\\\\"\n",
    "    return(stats_result)"
   ]
  },
  {
   "cell_type": "code",
   "execution_count": 9,
   "id": "dffa30d2",
   "metadata": {},
   "outputs": [],
   "source": [
    "# This query selects for each company the number of employees at a given point in time \n",
    "sparql.setQuery(\"\"\"\n",
    "SELECT ?company ?companyLabel ?numEmployees ?point\n",
    "WHERE\n",
    "{\n",
    "  VALUES ?p { wd:Q6881511 wd:Q4830453 } .  \n",
    "  ?company wdt:P31 ?p .\n",
    "  ?company p:P1128 ?employees .         \n",
    "  ?employees ps:P1128 ?numEmployees .\n",
    "  ?employees pq:P585 ?point .\n",
    "  SERVICE wikibase:label { bd:serviceParam wikibase:language \"[AUTO_LANGUAGE],en\" . }\n",
    "} \n",
    "   \"\"\"\n",
    ")\n",
    "\n",
    "try:\n",
    "    results = sparql.queryAndConvert()\n",
    "#    for result in results[\"results\"][\"bindings\"]:\n",
    "#        print(result)\n",
    "except Exception as e:\n",
    "    print(e)"
   ]
  },
  {
   "cell_type": "code",
   "execution_count": 14,
   "id": "7a3beb27",
   "metadata": {},
   "outputs": [
    {
     "name": "stdout",
     "output_type": "stream",
     "text": [
      "5764 & (13090,) & 1 & 58 & 7.283422459893048 & 2.0 & 11.075389847313827\\\n"
     ]
    }
   ],
   "source": [
    "# Convert results to a dataframe and save as tsv for further analysis\n",
    "results_df = pd.json_normalize(results['results']['bindings'])\n",
    "results_df = results_df.loc[:,~results_df.columns.str.endswith('type')]\n",
    "results_df.to_csv(\"company_employees.tsv\", sep = \"\\t\")\n",
    "print(datastats(results_df))"
   ]
  },
  {
   "cell_type": "code",
   "execution_count": 15,
   "id": "7ef19c5c",
   "metadata": {},
   "outputs": [],
   "source": [
    "# This query selects for each company the ceo and their start date \n",
    "# wd:Q6881511 enterprise (subclass of:)\n",
    "# wd:Q4830453 business \n",
    "sparql.setQuery(\"\"\"SELECT ?company ?companyLabel ?ceoname ?ceonameLabel ?starttime\n",
    "WHERE\n",
    "{\n",
    "  VALUES ?p { wd:Q6881511 wd:Q4830453 } .  \n",
    "  ?company wdt:P31 ?p .\n",
    "  ?company p:P169 ?ceo .         \n",
    "  ?ceo ps:P169 ?ceoname .\n",
    "  ?ceo pq:P580 ?starttime .\n",
    "  SERVICE wikibase:label { bd:serviceParam wikibase:language \"[AUTO_LANGUAGE],en\" . }\n",
    "}\n",
    "\"\"\"\n",
    ")\n",
    "\n",
    "try:\n",
    "    results = sparql.queryAndConvert()\n",
    "except Exception as e:\n",
    "    print(e)               "
   ]
  },
  {
   "cell_type": "code",
   "execution_count": 16,
   "id": "0fd16bfa",
   "metadata": {},
   "outputs": [
    {
     "name": "stdout",
     "output_type": "stream",
     "text": [
      "1252 & (2829,) & 1 & 26 & 4.910922587486745 & 2.0 & 5.165286170258831\\\n"
     ]
    }
   ],
   "source": [
    "# Convert results to a dataframe and save as tsv for further analysis\n",
    "results_df = pd.json_normalize(results['results']['bindings'])\n",
    "results_df = results_df.loc[:,~results_df.columns.str.endswith('type')]\n",
    "results_df.to_csv(\"company_ceo_starttime.tsv\", sep = \"\\t\")\n",
    "print(datastats(results_df))"
   ]
  },
  {
   "cell_type": "code",
   "execution_count": 19,
   "id": "8783d911",
   "metadata": {},
   "outputs": [],
   "source": [
    "# This query selects for each company their subsidiaries and their start date \n",
    "# wd:Q6881511 enterprise (subclass of:)\n",
    "# wd:Q4830453 business \n",
    "sparql.setQuery(\"\"\"SELECT ?company ?companyLabel ?subsidiaryname ?subsidiarynameLabel ?starttime\n",
    "WHERE\n",
    "{\n",
    "  VALUES ?p { wd:Q6881511 wd:Q4830453 } .  \n",
    "  ?company wdt:P31 ?p .\n",
    "  ?company p:P355 ?subsidiary .         \n",
    "  ?subsidiary ps:P355 ?subsidiaryname .\n",
    "  ?subsidiary pq:P580|pq:P585 ?starttime .\n",
    "  SERVICE wikibase:label { bd:serviceParam wikibase:language \"[AUTO_LANGUAGE],en\" . }\n",
    "} \n",
    "\"\"\"\n",
    ")\n",
    "\n",
    "\n",
    "try:\n",
    "    results = sparql.queryAndConvert()\n",
    "except Exception as e:\n",
    "    print(e)  "
   ]
  },
  {
   "cell_type": "code",
   "execution_count": 20,
   "id": "34f3881f",
   "metadata": {},
   "outputs": [
    {
     "name": "stdout",
     "output_type": "stream",
     "text": [
      "708 & (1548,) & 1 & 28 & 4.79328165374677 & 2.0 & 5.296987845809616\\\n"
     ]
    }
   ],
   "source": [
    "# Convert results to a dataframe and save as tsv for further analysis\n",
    "results_df = pd.json_normalize(results['results']['bindings']) \n",
    "results_df = results_df.loc[:,~results_df.columns.str.endswith('type')]\n",
    "results_df.to_csv(\"company_subsidiary_starttime.tsv\", sep = \"\\t\")\n",
    "print(datastats(results_df))"
   ]
  },
  {
   "cell_type": "code",
   "execution_count": 22,
   "id": "59da138f",
   "metadata": {},
   "outputs": [],
   "source": [
    "# This query selects for each company the companies they own and their start date/given point in time\n",
    "sparql.setQuery(\"\"\"SELECT ?company ?companyLabel ?othercompanyname ?othercompanynameLabel ?starttime\n",
    "WHERE\n",
    "{\n",
    "  VALUES ?p { wd:Q6881511 wd:Q4830453 } .  \n",
    "  ?company wdt:P31 ?p .\n",
    "  ?company p:P1830 ?othercompany .         \n",
    "  ?othercompany ps:P1830 ?othercompanyname .\n",
    "  ?othercompany pq:P580|pq:P585  ?starttime .\n",
    "  SERVICE wikibase:label { bd:serviceParam wikibase:language \"[AUTO_LANGUAGE],en\" . }\n",
    "} \n",
    "\"\"\"\n",
    ")                \n",
    "                \n",
    "try:\n",
    "    results = sparql.queryAndConvert()\n",
    "except Exception as e:\n",
    "    print(e) "
   ]
  },
  {
   "cell_type": "code",
   "execution_count": 23,
   "id": "f67d162f",
   "metadata": {},
   "outputs": [
    {
     "name": "stdout",
     "output_type": "stream",
     "text": [
      "506 & (846,) & 1 & 18 & 3.2671394799054374 & 2.0 & 3.698012656354469\\\n"
     ]
    }
   ],
   "source": [
    "# Convert results to a dataframe and save as tsv for further analysis\n",
    "results_df = pd.json_normalize(results['results']['bindings']) \n",
    "results_df = results_df.loc[:,~results_df.columns.str.endswith('type')]\n",
    "results_df.to_csv(\"company_owns_starttime.tsv\", sep = \"\\t\")\n",
    "print(datastats(results_df))"
   ]
  },
  {
   "cell_type": "code",
   "execution_count": 24,
   "id": "e20dd312",
   "metadata": {},
   "outputs": [],
   "source": [
    "# This query selects for each company the subsidiaries they own and their start date/given point in time,\n",
    "# as well as the industry/industries of the original company and of the subsidiaries \n",
    "\n",
    "sparql.setQuery(\"\"\"SELECT ?company ?companyLabel ?subsidiaryId ?subsidiaryIdLabel ?starttime ?industry ?industryLabel ?industry2 ?industry2Label\n",
    "WHERE\n",
    "{\n",
    "  VALUES ?p { wd:Q6881511 wd:Q4830453 } .  \n",
    "  ?company wdt:P31 ?p .\n",
    "  ?company wdt:P452 ?industry .\n",
    "  ?company p:P355 ?subsidiaryStmt .         \n",
    "  ?subsidiaryStmt ps:P355 ?subsidiaryId .\n",
    "  ?subsidiaryStmt pq:P580|pq:P585 ?starttime .\n",
    "optional { ?subsidiaryId wdt:P452 ?industry2 . } \n",
    "  SERVICE wikibase:label { bd:serviceParam wikibase:language \"[AUTO_LANGUAGE],en\" . }\n",
    "} \n",
    "\"\"\"\n",
    ")                \n",
    "                \n",
    "try:\n",
    "    results = sparql.queryAndConvert()\n",
    "except Exception as e:\n",
    "    print(e) "
   ]
  },
  {
   "cell_type": "code",
   "execution_count": 25,
   "id": "43c55841",
   "metadata": {},
   "outputs": [
    {
     "name": "stdout",
     "output_type": "stream",
     "text": [
      "518 & (3017,) & 1 & 96 & 27.142525687769307 & 12.0 & 28.199099786423588\\\n"
     ]
    }
   ],
   "source": [
    "# Convert results to a dataframe and save as tsv for further analysis\n",
    "results_df = pd.json_normalize(results['results']['bindings']) \n",
    "results_df = results_df.loc[:,~results_df.columns.str.endswith('type')]\n",
    "results_df.to_csv(\"company_subsidiary_industry.tsv\", sep = \"\\t\")\n",
    "print(datastats(results_df))"
   ]
  },
  {
   "cell_type": "code",
   "execution_count": 26,
   "id": "044a8cc3",
   "metadata": {},
   "outputs": [],
   "source": [
    "# This query gathers the company's official name(s) and times during which that name/those names were valid \n",
    "\n",
    "sparql.setQuery(\"\"\"SELECT ?company ?companyLabel ?name ?starttime ?endtime\n",
    "WHERE\n",
    "{ \n",
    "  VALUES ?p { wd:Q6881511 wd:Q4830453 } .  \n",
    "  ?company wdt:P31 ?p .\n",
    "  ?company p:P1448 ?nameId. \n",
    "  ?nameId ps:P1448 ?name .\n",
    "  ?nameId pq:P580|pq:P585 ?starttime .\n",
    "  OPTIONAL { ?nameId pq:P582 ?endtime . }\n",
    "  SERVICE wikibase:label { bd:serviceParam wikibase:language \"[AUTO_LANGUAGE],en\" . }\n",
    "}\n",
    "\"\"\"\n",
    ")                \n",
    "                \n",
    "try:\n",
    "    results = sparql.queryAndConvert()\n",
    "except Exception as e:\n",
    "    print(e) "
   ]
  },
  {
   "cell_type": "code",
   "execution_count": 27,
   "id": "b1e2afac",
   "metadata": {},
   "outputs": [
    {
     "name": "stdout",
     "output_type": "stream",
     "text": [
      "1643 & (4790,) & 1 & 18 & 4.389144050104385 & 4.0 & 2.928201720235181\\\n"
     ]
    }
   ],
   "source": [
    "# Convert results to a dataframe and save as tsv for further analysis\n",
    "results_df = pd.json_normalize(results['results']['bindings']) \n",
    "results_df = results_df.loc[:,~results_df.columns.str.endswith('type')]\n",
    "results_df.to_csv(\"company_names_dates.tsv\", sep = \"\\t\")\n",
    "print(datastats(results_df))"
   ]
  },
  {
   "cell_type": "code",
   "execution_count": 30,
   "id": "e6628db0",
   "metadata": {},
   "outputs": [],
   "source": [
    "# This query gathers the company's mottos/motto texts and times during which that motto/those mottos were valid \n",
    "# motto text : P1451 \n",
    "# motto : P1546 \n",
    "\n",
    "sparql.setQuery(\"\"\"SELECT ?company ?companyLabel ?mottoId ?mottoLabel ?starttime ?endtime\n",
    "WHERE\n",
    "{ \n",
    "  VALUES ?p { wd:Q6881511 wd:Q4830453 } .  \n",
    "  ?company wdt:P31 ?p .\n",
    "  ?company p:P1546|p:P1451 ?mottoId. \n",
    "  ?mottoId ps:P1546|ps:P1451 ?motto .\n",
    "  ?mottoId pq:P580|pq:P585 ?starttime . \n",
    "  SERVICE wikibase:label { bd:serviceParam wikibase:language \"[AUTO_LANGUAGE],en\" . }\n",
    "}\n",
    "\"\"\"\n",
    ")                \n",
    "                \n",
    "try:\n",
    "    results = sparql.queryAndConvert()\n",
    "except Exception as e:\n",
    "    print(e) "
   ]
  },
  {
   "cell_type": "code",
   "execution_count": 31,
   "id": "3d5e4904",
   "metadata": {},
   "outputs": [
    {
     "name": "stdout",
     "output_type": "stream",
     "text": [
      "29 & (56,) & 1 & 4 & 2.5 & 2.0 & 1.1441551070947107\\\n"
     ]
    }
   ],
   "source": [
    "# Convert results to a dataframe and save as tsv for further analysis\n",
    "results_df = pd.json_normalize(results['results']['bindings']) \n",
    "results_df = results_df.loc[:,~results_df.columns.str.endswith('type')]\n",
    "results_df.to_csv(\"company_mottos_dates.tsv\", sep = \"\\t\")\n",
    "print(datastats(results_df))"
   ]
  },
  {
   "cell_type": "code",
   "execution_count": 32,
   "id": "1c19075a",
   "metadata": {},
   "outputs": [],
   "source": [
    "# This query gathers the company's acronyms and times during which that motto/those mottos were valid \n",
    "# short name : P1813\n",
    "\n",
    "sparql.setQuery(\"\"\"SELECT ?company ?companyLabel ?acronymId ?acronym ?starttime ?endtime\n",
    "WHERE\n",
    "{ \n",
    "  VALUES ?p { wd:Q6881511 wd:Q4830453 } .  \n",
    "  ?company wdt:P31 ?p .\n",
    "  ?company p:P1813 ?acronymId . \n",
    "  ?acronymId ps:P1813 ?acronym .\n",
    "  OPTIONAL { ?acronymId pq:P580|pq:P585 ?starttime . }\n",
    "  OPTIONAL { ?acronymId pq:P582 ?endtime . }\n",
    "  SERVICE wikibase:label { bd:serviceParam wikibase:language \"[AUTO_LANGUAGE],en\" . }\n",
    "}\n",
    "\"\"\"\n",
    ")                \n",
    "                \n",
    "try:\n",
    "    results = sparql.queryAndConvert()\n",
    "except Exception as e:\n",
    "    print(e) "
   ]
  },
  {
   "cell_type": "code",
   "execution_count": 33,
   "id": "d04bf75e",
   "metadata": {},
   "outputs": [
    {
     "name": "stdout",
     "output_type": "stream",
     "text": [
      "1250 & (1728,) & 1 & 9 & 1.8310185185185186 & 1.0 & 1.3264616562208242\\\n"
     ]
    }
   ],
   "source": [
    "# Convert results to a dataframe and save as tsv for further analysis\n",
    "results_df = pd.json_normalize(results['results']['bindings']) \n",
    "#results_df = results_df.loc[:,~results_df.columns.str.endswith('type')]\n",
    "results_df.to_csv(\"company_acronyms_dates_with_types.tsv\", sep = \"\\t\")\n",
    "print(datastats(results_df))"
   ]
  },
  {
   "cell_type": "code",
   "execution_count": null,
   "id": "9bcb5f23",
   "metadata": {},
   "outputs": [],
   "source": []
  },
  {
   "cell_type": "code",
   "execution_count": null,
   "id": "e770c868",
   "metadata": {},
   "outputs": [],
   "source": []
  },
  {
   "cell_type": "code",
   "execution_count": null,
   "id": "ecf0ea49",
   "metadata": {},
   "outputs": [],
   "source": []
  }
 ],
 "metadata": {
  "kernelspec": {
   "display_name": "Python 3 (ipykernel)",
   "language": "python",
   "name": "python3"
  },
  "language_info": {
   "codemirror_mode": {
    "name": "ipython",
    "version": 3
   },
   "file_extension": ".py",
   "mimetype": "text/x-python",
   "name": "python",
   "nbconvert_exporter": "python",
   "pygments_lexer": "ipython3",
   "version": "3.11.4"
  }
 },
 "nbformat": 4,
 "nbformat_minor": 5
}
